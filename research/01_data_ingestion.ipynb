{
 "cells": [
  {
   "cell_type": "code",
   "execution_count": 1,
   "metadata": {},
   "outputs": [],
   "source": [
    "import os"
   ]
  },
  {
   "cell_type": "code",
   "execution_count": 2,
   "metadata": {},
   "outputs": [
    {
     "data": {
      "text/plain": [
       "'c:\\\\Users\\\\Alex\\\\Desktop\\\\R\\\\machine_learning\\\\10.Projects\\\\End-to-end-ML-project-with-MLflow\\\\research'"
      ]
     },
     "execution_count": 2,
     "metadata": {},
     "output_type": "execute_result"
    }
   ],
   "source": [
    "%pwd"
   ]
  },
  {
   "cell_type": "code",
   "execution_count": 3,
   "metadata": {},
   "outputs": [],
   "source": [
    "os.chdir(\"../\")"
   ]
  },
  {
   "cell_type": "code",
   "execution_count": 4,
   "metadata": {},
   "outputs": [
    {
     "data": {
      "text/plain": [
       "'c:\\\\Users\\\\Alex\\\\Desktop\\\\R\\\\machine_learning\\\\10.Projects\\\\End-to-end-ML-project-with-MLflow'"
      ]
     },
     "execution_count": 4,
     "metadata": {},
     "output_type": "execute_result"
    }
   ],
   "source": [
    "%pwd"
   ]
  },
  {
   "cell_type": "code",
   "execution_count": 5,
   "metadata": {},
   "outputs": [],
   "source": [
    "from dataclasses import dataclass\n",
    "from pathlib import Path\n",
    "\n",
    "# Definir una clase de datos inmutable que almacena \n",
    "# la configuración para la ingesta de datos\n",
    "@dataclass(frozen=True)\n",
    "class DataIngestionConfig:\n",
    "    root_dir: Path\n",
    "    source_URL: str\n",
    "    local_data_file: Path\n",
    "    unzip_dir: Path"
   ]
  },
  {
   "cell_type": "code",
   "execution_count": 6,
   "metadata": {},
   "outputs": [],
   "source": [
    "from mlProject.constants import *\n",
    "from mlProject.utils.common import read_yaml, create_directories"
   ]
  },
  {
   "cell_type": "code",
   "execution_count": 7,
   "metadata": {},
   "outputs": [],
   "source": [
    "class ConfigurationManager:\n",
    "    # Definir el método constructor que recibe las rutas de los archivos de configuración, parámetros y esquema\n",
    "    def __init__(\n",
    "        self,\n",
    "        config_filepath = CONFIG_FILE_PATH,\n",
    "        params_filepath = PARAMS_FILE_PATH,\n",
    "        schema_filepath = SCHEMA_FILE_PATH):\n",
    "\n",
    "        # Leer los archivos YAML y asignarlos a los atributos de la instancia\n",
    "        self.config = read_yaml(config_filepath)\n",
    "        self.params = read_yaml(params_filepath)\n",
    "        self.schema = read_yaml(schema_filepath)\n",
    "        # Crear el directorio raíz para los artefactos del proyecto\n",
    "        create_directories([self.config.artifacts_root])\n",
    "\n",
    "\n",
    "    # Definir un método que devuelve la configuración para la ingesta de datos\n",
    "    def get_data_ingestion_config(self) -> DataIngestionConfig:\n",
    "        # Obtener la configuración de la ingesta de datos\n",
    "        config = self.config.data_ingestion \n",
    "\n",
    "        # Crear el directorio raíz para la ingesta de datos\n",
    "        create_directories([config.root_dir])\n",
    "        # Crear un objeto de la clase DataIngestionConfig con los parámetros de la configuración\n",
    "        data_ingestion_config = DataIngestionConfig(\n",
    "            root_dir=config.root_dir,\n",
    "            source_URL=config.source_URL,\n",
    "            local_data_file=config.local_data_file,\n",
    "            unzip_dir=config.unzip_dir \n",
    "        )\n",
    "\n",
    "        return data_ingestion_config"
   ]
  },
  {
   "cell_type": "code",
   "execution_count": 8,
   "metadata": {},
   "outputs": [],
   "source": [
    "import os\n",
    "import urllib.request as request\n",
    "import zipfile\n",
    "from mlProject import logger\n",
    "from mlProject.utils.common import get_size"
   ]
  },
  {
   "cell_type": "code",
   "execution_count": 11,
   "metadata": {},
   "outputs": [],
   "source": [
    "class DataIngestion:\n",
    "    def __init__(self, config: DataIngestionConfig):\n",
    "        self.config = config\n",
    "\n",
    "    # Definir un método que descarga el archivo de datos de la URL de la fuente\n",
    "    def download_file(self):\n",
    "        # Verificar si el archivo local ya existe\n",
    "        if not os.path.exists(self.config.local_data_file):  \n",
    "            # Si no existe, descargar el archivo de la URL y guardar el nombre y los encabezados\n",
    "            filename, headers = request.urlretrieve(\n",
    "                url = self.config.source_URL,\n",
    "                filename = self.config.local_data_file\n",
    "            ) \n",
    "            # Registrar un mensaje con el nombre del archivo y los encabezados\n",
    "            logger.info(f\"{filename} download! with following info: \\n{headers}\")\n",
    "        else:\n",
    "            logger.info(f\"File already exists of size: {get_size(Path(self.config.local_data_file))}\")\n",
    "\n",
    "\n",
    "\n",
    "    def extract_zip_file(self):\n",
    "        \"\"\"\n",
    "        zip_file_path: str\n",
    "        Extracts the zip file into the data directory\n",
    "        Function returns None\n",
    "        \"\"\"\n",
    "        # Asignar la ruta del directorio donde se va a descomprimir el archivo\n",
    "        unzip_path = self.config.unzip_dir \n",
    "        # Crear el directorio si no existe\n",
    "        os.makedirs(unzip_path, exist_ok=True)\n",
    "        # Abrir el archivo zip en modo lectura\n",
    "        with zipfile.ZipFile(self.config.local_data_file, 'r') as zip_ref:\n",
    "            # Extraer todos los archivos del zip al directorio\n",
    "            zip_ref.extractall(unzip_path)\n",
    "  "
   ]
  },
  {
   "cell_type": "code",
   "execution_count": 12,
   "metadata": {},
   "outputs": [
    {
     "name": "stdout",
     "output_type": "stream",
     "text": [
      "[2023-07-28 17:42:18,840: INFO: common: yaml file: config\\config.yaml loaded successfully]\n",
      "[2023-07-28 17:42:18,846: INFO: common: yaml file: params.yaml loaded successfully]\n",
      "[2023-07-28 17:42:18,852: INFO: common: yaml file: schema.yaml loaded successfully]\n",
      "[2023-07-28 17:42:18,855: INFO: common: created directory at: artifacts]\n",
      "[2023-07-28 17:42:18,861: INFO: common: created directory at: artifacts/data_ingestion]\n"
     ]
    },
    {
     "name": "stdout",
     "output_type": "stream",
     "text": [
      "[2023-07-28 17:42:20,447: INFO: 4266687756: artifacts/data_ingestion/data.zip download! with following info: \n",
      "Connection: close\n",
      "Content-Length: 23329\n",
      "Cache-Control: max-age=300\n",
      "Content-Security-Policy: default-src 'none'; style-src 'unsafe-inline'; sandbox\n",
      "Content-Type: application/zip\n",
      "ETag: \"c69888a4ae59bc5a893392785a938ccd4937981c06ba8a9d6a21aa52b4ab5b6e\"\n",
      "Strict-Transport-Security: max-age=31536000\n",
      "X-Content-Type-Options: nosniff\n",
      "X-Frame-Options: deny\n",
      "X-XSS-Protection: 1; mode=block\n",
      "X-GitHub-Request-Id: D3A4:45E3:306DC5:396F83:64C4444D\n",
      "Accept-Ranges: bytes\n",
      "Date: Fri, 28 Jul 2023 22:42:22 GMT\n",
      "Via: 1.1 varnish\n",
      "X-Served-By: cache-lim12123-LIM\n",
      "X-Cache: MISS\n",
      "X-Cache-Hits: 0\n",
      "X-Timer: S1690584142.867261,VS0,VE269\n",
      "Vary: Authorization,Accept-Encoding,Origin\n",
      "Access-Control-Allow-Origin: *\n",
      "Cross-Origin-Resource-Policy: cross-origin\n",
      "X-Fastly-Request-ID: 44189cb809588d5e49b0ff80a913f92547b8c47b\n",
      "Expires: Fri, 28 Jul 2023 22:47:22 GMT\n",
      "Source-Age: 0\n",
      "\n",
      "]\n"
     ]
    }
   ],
   "source": [
    "\"\"\"\n",
    "Realizar la ingesta de datos desde una fuente remota \n",
    "a un directorio local, usando las clases ConfigurationManager y DataIngestion\n",
    "\"\"\"\n",
    "try:\n",
    "    config = ConfigurationManager() # Crear un objeto de la clase ConfigurationManager que gestiona la configuración del proyecto \n",
    "    data_ingestion_config = config.get_data_ingestion_config() # Obtener la configuración para la ingesta de datos \n",
    "    data_ingestion = DataIngestion(config=data_ingestion_config) # Crear un objeto de la clase DataIngestion que realiza la ingesta de datos usando la configuración obtenida\n",
    "    data_ingestion.download_file() # Descargar el archivo de datos de la URL\n",
    "    data_ingestion.extract_zip_file() # Descomprimir el archivo de datos en el directorio local \n",
    "except Exception as e:\n",
    "    raise e"
   ]
  },
  {
   "cell_type": "code",
   "execution_count": null,
   "metadata": {},
   "outputs": [],
   "source": [
    "# ------------------------------------------------------------------------------------------------"
   ]
  }
 ],
 "metadata": {
  "kernelspec": {
   "display_name": "mlproj",
   "language": "python",
   "name": "python3"
  },
  "language_info": {
   "codemirror_mode": {
    "name": "ipython",
    "version": 3
   },
   "file_extension": ".py",
   "mimetype": "text/x-python",
   "name": "python",
   "nbconvert_exporter": "python",
   "pygments_lexer": "ipython3",
   "version": "3.9.16"
  },
  "orig_nbformat": 4
 },
 "nbformat": 4,
 "nbformat_minor": 2
}
